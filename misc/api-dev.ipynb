{
 "cells": [
  {
   "cell_type": "markdown",
   "metadata": {},
   "source": [
    "## DGGS API dev, H3 zoning and querying"
   ]
  },
  {
   "cell_type": "code",
   "execution_count": 3,
   "metadata": {},
   "outputs": [],
   "source": [
    "import yaml"
   ]
  },
  {
   "cell_type": "markdown",
   "metadata": {},
   "source": [
    "**Version 0.0.4 superceded**"
   ]
  },
  {
   "cell_type": "code",
   "execution_count": 4,
   "metadata": {},
   "outputs": [],
   "source": [
    "fn = \"../dggs_api_server/swagger/swagger-0.0.4.yaml\""
   ]
  },
  {
   "cell_type": "code",
   "execution_count": null,
   "metadata": {},
   "outputs": [],
   "source": [
    "with open(fn) as fh:\n",
    "    read_data = yaml.load(fh, Loader=yaml.FullLoader)\n",
    "\n",
    "# Print YAML data before sorting\n",
    "# print(read_data)"
   ]
  },
  {
   "cell_type": "code",
   "execution_count": 50,
   "metadata": {},
   "outputs": [
    {
     "name": "stdout",
     "output_type": "stream",
     "text": [
      "/ [get]: dggs_api_server.controllers.capabilities_controller\n",
      "/conformance [get]: dggs_api_server.controllers.capabilities_controller\n",
      "/collections [get]: dggs_api_server.controllers.capabilities_controller\n",
      "/collections/{collectionId}/describe [get]: dggs_api_server.controllers.dggs_access_controller\n",
      "/collections/{collectionId}/zones [get]: dggs_api_server.controllers.dggs_access_controller\n",
      "/collections/{collectionId}/zone [get]: dggs_api_server.controllers.dggs_access_controller\n",
      "/collections/{collectionId}/zone/{zoneId}/buffer [get]: dggs_api_server.controllers.dggs_access_controller\n",
      "/collections/{collectionId}/zone/{zoneId}/child [get]: dggs_api_server.controllers.dggs_access_controller\n",
      "/collections/{collectionId}/zone/{zoneId}/childOf [get]: dggs_api_server.controllers.dggs_access_controller\n",
      "/collections/{collectionId}/zone/{zoneId}/parentOf [get]: dggs_api_server.controllers.dggs_access_controller\n",
      "/collections/{collectionId}/zone/{zoneId}/siblingOf [get]: dggs_api_server.controllers.dggs_access_controller\n",
      "/collections/{collectionId}/zone/{zoneId}/intersects [get]: dggs_api_server.controllers.dggs_access_controller\n",
      "/collections/{collectionId}/zone/{zoneId}/overlaps [get]: dggs_api_server.controllers.dggs_access_controller\n"
     ]
    }
   ],
   "source": [
    "reorder = {}\n",
    "\n",
    "for k, v in read_data['paths'].items():\n",
    "    # print(k)\n",
    "    for method in ['get', 'post', 'options', 'put', 'delete', 'head']:\n",
    "        # print(v['x-openapi-router-controller'])\n",
    "        if method in v.keys():\n",
    "            path = v[method]['x-openapi-router-controller']\n",
    "            print(f\"{k} [{method}]: {path}\")\n",
    "            reorder.update( { f\"{k} [{method}]\": path} )"
   ]
  },
  {
   "cell_type": "markdown",
   "metadata": {},
   "source": [
    "**Version 0.0.6 current state**"
   ]
  },
  {
   "cell_type": "code",
   "execution_count": 6,
   "metadata": {},
   "outputs": [],
   "source": [
    "fn2 = \"../dggs_api_server/swagger/swagger-0.0.6.yaml\""
   ]
  },
  {
   "cell_type": "code",
   "execution_count": 7,
   "metadata": {},
   "outputs": [],
   "source": [
    "with open(fn2) as fh:\n",
    "    read_data2 = yaml.load(fh, Loader=yaml.FullLoader)"
   ]
  },
  {
   "cell_type": "code",
   "execution_count": 8,
   "metadata": {},
   "outputs": [
    {
     "name": "stdout",
     "output_type": "stream",
     "text": [
      "/ [get]: dggs_api_server.controllers.capabilities_controller\n",
      "/conformance [get]: dggs_api_server.controllers.capabilities_controller\n",
      "/collections [get]: dggs_api_server.controllers.capabilities_controller\n",
      "/collections/{collectionId}/describe [get]: dggs_api_server.controllers.dggs_access_controller\n",
      "/collections/{collectionId}/zones [get]: dggs_api_server.controllers.dggs_access_controller\n",
      "/collections/{collectionId}/zone [get]: dggs_api_server.controllers.dggs_access_controller\n",
      "/collections/{collectionId}/zone/{zoneId}/distance [get]: dggs_api_server.controllers.zone_query_ops_controller\n",
      "/collections/{collectionId}/zone/{zoneId}/buffer [get]: dggs_api_server.controllers.zone_query_set_controller\n",
      "/collections/{collectionId}/zone/{zoneId}/difference [get]: dggs_api_server.controllers.zone_query_set_controller\n",
      "/collections/{collectionId}/zone/{zoneId}/intersection [get]: dggs_api_server.controllers.zone_query_set_controller\n",
      "/collections/{collectionId}/zone/{zoneId}/symDifference [get]: dggs_api_server.controllers.zone_query_set_controller\n",
      "/collections/{collectionId}/zone/{zoneId}/union [get]: dggs_api_server.controllers.zone_query_set_controller\n",
      "/collections/{collectionId}/zone/{zoneId}/child [get]: dggs_api_server.controllers.zone_query_set_controller\n",
      "/collections/{collectionId}/zone/{zoneId}/parent [get]: dggs_api_server.controllers.zone_query_set_controller\n",
      "/collections/{collectionId}/zone/{zoneId}/sibling [get]: dggs_api_server.controllers.zone_query_set_controller\n",
      "/collections/{collectionId}/zone/{zoneId}/relativePosition [get]: dggs_api_server.controllers.zone_query_query_controller\n",
      "/collections/{collectionId}/zone/{zoneId}/contains [get]: dggs_api_server.controllers.zone_query_query_controller\n",
      "/collections/{collectionId}/zone/{zoneId}/crosses [get]: dggs_api_server.controllers.zone_query_query_controller\n",
      "/collections/{collectionId}/zone/{zoneId}/disjoint [get]: dggs_api_server.controllers.zone_query_query_controller\n",
      "/collections/{collectionId}/zone/{zoneId}/equals [get]: dggs_api_server.controllers.zone_query_query_controller\n",
      "/collections/{collectionId}/zone/{zoneId}/intersects [get]: dggs_api_server.controllers.zone_query_query_controller\n",
      "/collections/{collectionId}/zone/{zoneId}/overlaps [get]: dggs_api_server.controllers.zone_query_query_controller\n",
      "/collections/{collectionId}/zone/{zoneId}/touches [get]: dggs_api_server.controllers.zone_query_query_controller\n",
      "/collections/{collectionId}/zone/{zoneId}/within [get]: dggs_api_server.controllers.zone_query_query_controller\n",
      "/collections/{collectionId}/zone/{zoneId}/withinDistance [get]: dggs_api_server.controllers.zone_query_query_controller\n",
      "/collections/{collectionId}/zone/{zoneId}/childOf [get]: dggs_api_server.controllers.zone_query_query_controller\n",
      "/collections/{collectionId}/zone/{zoneId}/parentOf [get]: dggs_api_server.controllers.zone_query_query_controller\n",
      "/collections/{collectionId}/zone/{zoneId}/siblingOf [get]: dggs_api_server.controllers.zone_query_query_controller\n",
      "/collections/{collectionId}/zone/{zoneId}/relate [get]: dggs_api_server.controllers.zone_query_reference_controller\n",
      "/collections/{collectionId}/zone/{zoneId}/relatePosition [get]: dggs_api_server.controllers.zone_query_reference_controller\n"
     ]
    }
   ],
   "source": [
    "reorder2 = {}\n",
    "\n",
    "for k, v in read_data2['paths'].items():\n",
    "    # print(k)\n",
    "    for method in ['get', 'post', 'options', 'put', 'delete', 'head']:\n",
    "        # print(v['x-openapi-router-controller'])\n",
    "        if method in v.keys():\n",
    "            path = v[method]['x-openapi-router-controller'].replace(\"<<\",\"\").replace(\">>\", \"_\")\n",
    "            print(f\"{k} [{method}]: {path}\")\n",
    "            reorder2.update( { f\"{k} [{method}]\": path} )"
   ]
  },
  {
   "cell_type": "code",
   "execution_count": null,
   "metadata": {},
   "outputs": [],
   "source": []
  },
  {
   "cell_type": "code",
   "execution_count": 12,
   "metadata": {},
   "outputs": [],
   "source": [
    "import requests"
   ]
  },
  {
   "cell_type": "code",
   "execution_count": 30,
   "metadata": {},
   "outputs": [],
   "source": [
    "# API_BASE=\"https://dggs-api-bozea3cspa-ew.a.run.app/dggs-api\"\n",
    "API_BASE=\"http://localhost:8080/dggs-api\""
   ]
  },
  {
   "cell_type": "code",
   "execution_count": 31,
   "metadata": {},
   "outputs": [
    {
     "data": {
      "text/plain": [
       "{'title': {'description': 'Access to data about Estonia via a Web API that conforms to the OGC API DGGS specification.',\n",
       "  'links': [{'href': 'http://data.example.org/',\n",
       "    'rel': 'self',\n",
       "    'title': 'this document',\n",
       "    'type': 'application/json'},\n",
       "   {'href': 'http://data.example.org/api',\n",
       "    'rel': 'service-desc',\n",
       "    'title': 'the API definition',\n",
       "    'type': 'application/vnd.oai.openapi+json;version=3.0'},\n",
       "   {'href': 'http://data.example.org/api.html',\n",
       "    'rel': 'service-doc',\n",
       "    'title': 'the API documentation',\n",
       "    'type': 'text/html'},\n",
       "   {'href': 'http://data.example.org/conformance',\n",
       "    'rel': 'conformance',\n",
       "    'title': 'OGC API conformance classes implemented by this server',\n",
       "    'type': 'application/json'},\n",
       "   {'href': 'http://data.example.org/collections',\n",
       "    'rel': 'data',\n",
       "    'title': 'Information about the feature collections',\n",
       "    'type': 'application/json'}],\n",
       "  'title': 'Data in Estonia'}}"
      ]
     },
     "execution_count": 31,
     "metadata": {},
     "output_type": "execute_result"
    }
   ],
   "source": [
    "# / [get]\n",
    "r = requests.get(API_BASE)\n",
    "r.json()"
   ]
  },
  {
   "cell_type": "code",
   "execution_count": 32,
   "metadata": {},
   "outputs": [
    {
     "data": {
      "text/plain": [
       "{'dggs-list': [{'description': '30m SRTM sampled at res 8 covering Estonia',\n",
       "   'dggs-id': 'H3',\n",
       "   'id': 'srtm_30m_estonia_h3',\n",
       "   'links': [],\n",
       "   'resolutions': ['8', '7', '6', '5', '4', '3', '2'],\n",
       "   'title': 'srtm_30m_estonia_h3'}],\n",
       " 'links': [{'href': {'href': 'http://data.example.org/dggs.json',\n",
       "    'rel': 'self',\n",
       "    'title': 'this document',\n",
       "    'type': 'application/json'}},\n",
       "  {'href': {'href': 'http://data.example.org/dggs.html',\n",
       "    'rel': 'alternate',\n",
       "    'title': 'this document as HTML',\n",
       "    'type': 'text/html'}}]}"
      ]
     },
     "execution_count": 32,
     "metadata": {},
     "output_type": "execute_result"
    }
   ],
   "source": [
    "# /collections [get]\n",
    "r = requests.get(API_BASE + \"/collections\")\n",
    "r.json()"
   ]
  },
  {
   "cell_type": "code",
   "execution_count": 33,
   "metadata": {},
   "outputs": [
    {
     "name": "stdout",
     "output_type": "stream",
     "text": [
      "working with <srtm_30m_estonia_h3>\n"
     ]
    }
   ],
   "source": [
    "collection = r.json()['dggs-list'][0]\n",
    "collectionId = collection['id']\n",
    "print(f\"working with <{collectionId}>\")"
   ]
  },
  {
   "cell_type": "code",
   "execution_count": 34,
   "metadata": {},
   "outputs": [
    {
     "data": {
      "text/plain": [
       "{'description': '30m SRTM sampled at res 8 covering Estonia',\n",
       " 'dggs-id': 'H3',\n",
       " 'id': 'srtm_30m_estonia_h3',\n",
       " 'links': [],\n",
       " 'resolutions': ['8', '7', '6', '5', '4', '3', '2'],\n",
       " 'title': 'srtm_30m_estonia_h3'}"
      ]
     },
     "execution_count": 34,
     "metadata": {},
     "output_type": "execute_result"
    }
   ],
   "source": [
    "# /collections/{collectionId}/describe [get]\n",
    "r = requests.get(API_BASE + f\"/collections/{collectionId}/describe\")\n",
    "r.json()"
   ]
  },
  {
   "cell_type": "code",
   "execution_count": 22,
   "metadata": {},
   "outputs": [],
   "source": [
    "import folium\n",
    "from h3 import h3"
   ]
  },
  {
   "cell_type": "code",
   "execution_count": 23,
   "metadata": {},
   "outputs": [],
   "source": [
    "def visualize_polygon(polyline, color):\n",
    "    polyline.append(polyline[0])\n",
    "    lat = [p[0] for p in polyline]\n",
    "    lng = [p[1] for p in polyline]\n",
    "    m = folium.Map(location=[sum(lat)/len(lat), sum(lng)/len(lng)], zoom_start=13, tiles='cartodbpositron')\n",
    "    my_PolyLine=folium.PolyLine(locations=polyline,weight=8,color=color)\n",
    "    m.add_child(my_PolyLine)\n",
    "    return m"
   ]
  },
  {
   "cell_type": "code",
   "execution_count": 56,
   "metadata": {},
   "outputs": [],
   "source": [
    "def visualize_polygon_features(features, color=\"red\", folium_map=None):\n",
    "    geom_ext = features[0]['geometry']['coordinates'][0]\n",
    "    lng = [p[0] for p in geom_ext]\n",
    "    lat = [p[1] for p in geom_ext]\n",
    "    if folium_map is None:\n",
    "        m = folium.Map(height=600, width=800, location=[sum(lat)/len(lat), sum(lng)/len(lng)], zoom_start=13, tiles='cartodbpositron')\n",
    "    else:\n",
    "        m = folium_map\n",
    "    for f in features:\n",
    "        folium.GeoJson(f).add_to(m)\n",
    "    return m"
   ]
  },
  {
   "cell_type": "code",
   "execution_count": 24,
   "metadata": {},
   "outputs": [],
   "source": [
    "def visualize_hexagons(hexagons, color=\"red\", folium_map=None):\n",
    "    \"\"\"\n",
    "    hexagons is a list of hexcluster. Each hexcluster is a list of hexagons. \n",
    "    eg. [[hex1, hex2], [hex3, hex4]]\n",
    "    \"\"\"\n",
    "    polylines = []\n",
    "    lat = []\n",
    "    lng = []\n",
    "    for hex in hexagons:\n",
    "        polygons = h3.h3_set_to_multi_polygon([hex], geo_json=False)\n",
    "        # flatten polygons into loops.\n",
    "        outlines = [loop for polygon in polygons for loop in polygon]\n",
    "        polyline = [outline + [outline[0]] for outline in outlines][0]\n",
    "        lat.extend(map(lambda v:v[0],polyline))\n",
    "        lng.extend(map(lambda v:v[1],polyline))\n",
    "        polylines.append(polyline)\n",
    "    \n",
    "    if folium_map is None:\n",
    "        m = folium.Map(height=600, width=800, location=[sum(lat)/len(lat), sum(lng)/len(lng)], zoom_start=13, tiles='cartodbpositron')\n",
    "    else:\n",
    "        m = folium_map\n",
    "    for polyline in polylines:\n",
    "        my_PolyLine=folium.PolyLine(locations=polyline,weight=8,color=color)\n",
    "        m.add_child(my_PolyLine)\n",
    "    return m"
   ]
  },
  {
   "cell_type": "code",
   "execution_count": 52,
   "metadata": {},
   "outputs": [],
   "source": [
    "import copy\n",
    "\n",
    "def dggs_json_to_geojson_feature(dggs_json):\n",
    "    cell_id = dggs_json['id']\n",
    "    cell_id2 = dggs_json['geometry'][0]\n",
    "    assert(cell_id == cell_id2)\n",
    "    geom = h3.h3_to_geo_boundary(cell_id, geo_json=True)\n",
    "    geojson_feature = dggs_json.copy()\n",
    "    geojson_feature['geometry'] = {'type': 'Polygon',\n",
    "            'coordinates': [\n",
    "                geom\n",
    "            ]\n",
    "        }\n",
    "    return geojson_feature\n"
   ]
  },
  {
   "cell_type": "code",
   "execution_count": 35,
   "metadata": {},
   "outputs": [
    {
     "data": {
      "text/plain": [
       "{'geometry': ['8808932091fffff'],\n",
       " 'id': '8808932091fffff',\n",
       " 'links': [],\n",
       " 'properties': {'elevation': 0.0,\n",
       "  'elevation_count': 1,\n",
       "  'elevation_std': 0.0,\n",
       "  'resolution': 8},\n",
       " 'type': 'Feature'}"
      ]
     },
     "execution_count": 35,
     "metadata": {},
     "output_type": "execute_result"
    }
   ],
   "source": [
    "# /collections/{collectionId}/zone [get]\n",
    "# that's a weird API def artifact\n",
    "\n",
    "r = requests.get(API_BASE + f\"/collections/{collectionId}/zone\")\n",
    "r.json()"
   ]
  },
  {
   "cell_type": "code",
   "execution_count": 53,
   "metadata": {},
   "outputs": [
    {
     "data": {
      "text/plain": [
       "{'geometry': {'type': 'Polygon',\n",
       "  'coordinates': [((21.822582458429643, 58.22546258883676),\n",
       "    (21.819530487824053, 58.221758675127255),\n",
       "    (21.825011159959434, 58.21873583713209),\n",
       "    (21.83354362911352, 58.219416682186775),\n",
       "    (21.83659642569351, 58.22312044561261),\n",
       "    (21.831115927287996, 58.226143514283564),\n",
       "    (21.822582458429643, 58.22546258883676))]},\n",
       " 'id': '8808932091fffff',\n",
       " 'links': [],\n",
       " 'properties': {'elevation': 0.0,\n",
       "  'elevation_count': 1,\n",
       "  'elevation_std': 0.0,\n",
       "  'resolution': 8},\n",
       " 'type': 'Feature'}"
      ]
     },
     "execution_count": 53,
     "metadata": {},
     "output_type": "execute_result"
    }
   ],
   "source": [
    "zone_geojson1 = dggs_json_to_geojson_feature(r.json())\n",
    "zone_geojson1"
   ]
  },
  {
   "cell_type": "code",
   "execution_count": 57,
   "metadata": {},
   "outputs": [
    {
     "data": {
      "text/html": [
       "<div style=\"width:100%;\"><div style=\"position:relative;width:100%;height:0;padding-bottom:60%;\"><span style=\"color:#565656\">Make this Notebook Trusted to load map: File -> Trust Notebook</span><iframe src=\"about:blank\" style=\"position:absolute;width:100%;height:100%;left:0;top:0;border:none !important;\" data-html=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 onload=\"this.contentDocument.open();this.contentDocument.write(atob(this.getAttribute('data-html')));this.contentDocument.close();\" allowfullscreen webkitallowfullscreen mozallowfullscreen></iframe></div></div>"
      ],
      "text/plain": [
       "<folium.folium.Map at 0x1c896c76808>"
      ]
     },
     "execution_count": 57,
     "metadata": {},
     "output_type": "execute_result"
    }
   ],
   "source": [
    "visualize_polygon_features([zone_geojson1], color=\"blue\", folium_map=None)"
   ]
  },
  {
   "cell_type": "code",
   "execution_count": 60,
   "metadata": {},
   "outputs": [],
   "source": [
    "# /collections/{collectionId}/zones [get]\n",
    "query_params = {'resolution': 5, 'bbox': \"25.32,58.27,26.82,58.67\", 'limit': 50}\n",
    "r = requests.get(API_BASE + f\"/collections/{collectionId}/zones\", params=query_params)\n",
    "zone_json = r.json()"
   ]
  },
  {
   "cell_type": "code",
   "execution_count": 62,
   "metadata": {},
   "outputs": [
    {
     "data": {
      "text/plain": [
       "19"
      ]
     },
     "execution_count": 62,
     "metadata": {},
     "output_type": "execute_result"
    }
   ],
   "source": [
    "len(zone_json['features'])"
   ]
  },
  {
   "cell_type": "code",
   "execution_count": 63,
   "metadata": {},
   "outputs": [
    {
     "data": {
      "text/plain": [
       "{'features': [{'geometry': ['8511340bfffffff'],\n",
       "   'id': '8511340bfffffff',\n",
       "   'links': [],\n",
       "   'properties': {'elevation': 52.25484036148116,\n",
       "    'elevation_count': 343,\n",
       "    'elevation_std': 8.584401058835224,\n",
       "    'resolution': 5},\n",
       "   'type': 'Feature'},\n",
       "  {'geometry': ['8511341bfffffff'],\n",
       "   'id': '8511341bfffffff',\n",
       "   'links': [],\n",
       "   'properties': {'elevation': 48.89117777793704,\n",
       "    'elevation_count': 343,\n",
       "    'elevation_std': 5.792034096911395,\n",
       "    'resolution': 5},\n",
       "   'type': 'Feature'},\n",
       "  {'geometry': ['85113443fffffff'],\n",
       "   'id': '85113443fffffff',\n",
       "   'links': [],\n",
       "   'properties': {'elevation': 34.57612721918737,\n",
       "    'elevation_count': 343,\n",
       "    'elevation_std': 2.3709294150478626,\n",
       "    'resolution': 5},\n",
       "   'type': 'Feature'},\n",
       "  {'geometry': ['85113447fffffff'],\n",
       "   'id': '85113447fffffff',\n",
       "   'links': [],\n",
       "   'properties': {'elevation': 38.62437245449589,\n",
       "    'elevation_count': 343,\n",
       "    'elevation_std': 3.6962818412988945,\n",
       "    'resolution': 5},\n",
       "   'type': 'Feature'},\n",
       "  {'geometry': ['8511344ffffffff'],\n",
       "   'id': '8511344ffffffff',\n",
       "   'links': [],\n",
       "   'properties': {'elevation': 41.591099367012916,\n",
       "    'elevation_count': 343,\n",
       "    'elevation_std': 11.26608820288763,\n",
       "    'resolution': 5},\n",
       "   'type': 'Feature'},\n",
       "  {'geometry': ['85113453fffffff'],\n",
       "   'id': '85113453fffffff',\n",
       "   'links': [],\n",
       "   'properties': {'elevation': 50.930644501026585,\n",
       "    'elevation_count': 343,\n",
       "    'elevation_std': 10.367396214377186,\n",
       "    'resolution': 5},\n",
       "   'type': 'Feature'},\n",
       "  {'geometry': ['85113457fffffff'],\n",
       "   'id': '85113457fffffff',\n",
       "   'links': [],\n",
       "   'properties': {'elevation': 43.8788863260543,\n",
       "    'elevation_count': 343,\n",
       "    'elevation_std': 3.9594282051977987,\n",
       "    'resolution': 5},\n",
       "   'type': 'Feature'},\n",
       "  {'geometry': ['85113463fffffff'],\n",
       "   'id': '85113463fffffff',\n",
       "   'links': [],\n",
       "   'properties': {'elevation': 69.68887469414875,\n",
       "    'elevation_count': 343,\n",
       "    'elevation_std': 14.014442795629078,\n",
       "    'resolution': 5},\n",
       "   'type': 'Feature'},\n",
       "  {'geometry': ['8511346bfffffff'],\n",
       "   'id': '8511346bfffffff',\n",
       "   'links': [],\n",
       "   'properties': {'elevation': 54.820521919548725,\n",
       "    'elevation_count': 343,\n",
       "    'elevation_std': 10.711885640162265,\n",
       "    'resolution': 5},\n",
       "   'type': 'Feature'},\n",
       "  {'geometry': ['8511346ffffffff'],\n",
       "   'id': '8511346ffffffff',\n",
       "   'links': [],\n",
       "   'properties': {'elevation': 60.975416277551055,\n",
       "    'elevation_count': 343,\n",
       "    'elevation_std': 16.028102451243697,\n",
       "    'resolution': 5},\n",
       "   'type': 'Feature'},\n",
       "  {'geometry': ['85113473fffffff'],\n",
       "   'id': '85113473fffffff',\n",
       "   'links': [],\n",
       "   'properties': {'elevation': 55.101853865519466,\n",
       "    'elevation_count': 343,\n",
       "    'elevation_std': 7.970528930688109,\n",
       "    'resolution': 5},\n",
       "   'type': 'Feature'},\n",
       "  {'geometry': ['8511347bfffffff'],\n",
       "   'id': '8511347bfffffff',\n",
       "   'links': [],\n",
       "   'properties': {'elevation': 43.935209179304735,\n",
       "    'elevation_count': 343,\n",
       "    'elevation_std': 5.016441887680884,\n",
       "    'resolution': 5},\n",
       "   'type': 'Feature'},\n",
       "  {'geometry': ['851134c3fffffff'],\n",
       "   'id': '851134c3fffffff',\n",
       "   'links': [],\n",
       "   'properties': {'elevation': 75.16378582663714,\n",
       "    'elevation_count': 343,\n",
       "    'elevation_std': 23.110442896289072,\n",
       "    'resolution': 5},\n",
       "   'type': 'Feature'},\n",
       "  {'geometry': ['851134c7fffffff'],\n",
       "   'id': '851134c7fffffff',\n",
       "   'links': [],\n",
       "   'properties': {'elevation': 54.74230302561116,\n",
       "    'elevation_count': 343,\n",
       "    'elevation_std': 12.789056223861943,\n",
       "    'resolution': 5},\n",
       "   'type': 'Feature'},\n",
       "  {'geometry': ['851134cbfffffff'],\n",
       "   'id': '851134cbfffffff',\n",
       "   'links': [],\n",
       "   'properties': {'elevation': 71.70835369434901,\n",
       "    'elevation_count': 343,\n",
       "    'elevation_std': 14.398829750663557,\n",
       "    'resolution': 5},\n",
       "   'type': 'Feature'},\n",
       "  {'geometry': ['851134cffffffff'],\n",
       "   'id': '851134cffffffff',\n",
       "   'links': [],\n",
       "   'properties': {'elevation': 67.07276058690684,\n",
       "    'elevation_count': 343,\n",
       "    'elevation_std': 18.35978582834085,\n",
       "    'resolution': 5},\n",
       "   'type': 'Feature'},\n",
       "  {'geometry': ['851134dbfffffff'],\n",
       "   'id': '851134dbfffffff',\n",
       "   'links': [],\n",
       "   'properties': {'elevation': 55.74866293873518,\n",
       "    'elevation_count': 343,\n",
       "    'elevation_std': 15.483441262418705,\n",
       "    'resolution': 5},\n",
       "   'type': 'Feature'},\n",
       "  {'geometry': ['851136a7fffffff'],\n",
       "   'id': '851136a7fffffff',\n",
       "   'links': [],\n",
       "   'properties': {'elevation': 51.78099021711888,\n",
       "    'elevation_count': 343,\n",
       "    'elevation_std': 10.820881237100428,\n",
       "    'resolution': 5},\n",
       "   'type': 'Feature'},\n",
       "  {'geometry': ['851136b7fffffff'],\n",
       "   'id': '851136b7fffffff',\n",
       "   'links': [],\n",
       "   'properties': {'elevation': 44.025805101492814,\n",
       "    'elevation_count': 343,\n",
       "    'elevation_std': 11.582810257473438,\n",
       "    'resolution': 5},\n",
       "   'type': 'Feature'}],\n",
       " 'type': 'FeatureCollection'}"
      ]
     },
     "execution_count": 63,
     "metadata": {},
     "output_type": "execute_result"
    }
   ],
   "source": [
    "zone_json"
   ]
  },
  {
   "cell_type": "code",
   "execution_count": 64,
   "metadata": {},
   "outputs": [
    {
     "ename": "TypeError",
     "evalue": "list indices must be integers or slices, not str",
     "output_type": "error",
     "traceback": [
      "\u001b[1;31m---------------------------------------------------------------------------\u001b[0m",
      "\u001b[1;31mTypeError\u001b[0m                                 Traceback (most recent call last)",
      "\u001b[1;32m<ipython-input-64-0b2c5e48ce54>\u001b[0m in \u001b[0;36m<module>\u001b[1;34m\u001b[0m\n\u001b[1;32m----> 1\u001b[1;33m \u001b[0mzone_geojson_collection\u001b[0m \u001b[1;33m=\u001b[0m \u001b[0mdggs_json_to_geojson_feature\u001b[0m\u001b[1;33m(\u001b[0m\u001b[0mzone_json\u001b[0m\u001b[1;33m[\u001b[0m\u001b[1;34m'features'\u001b[0m\u001b[1;33m]\u001b[0m\u001b[1;33m)\u001b[0m\u001b[1;33m\u001b[0m\u001b[1;33m\u001b[0m\u001b[0m\n\u001b[0m\u001b[0;32m      2\u001b[0m \u001b[0mvisualize_polygon_features\u001b[0m\u001b[1;33m(\u001b[0m\u001b[0mzone_geojson_collection\u001b[0m\u001b[1;33m,\u001b[0m \u001b[0mcolor\u001b[0m\u001b[1;33m=\u001b[0m\u001b[1;34m\"blue\"\u001b[0m\u001b[1;33m,\u001b[0m \u001b[0mfolium_map\u001b[0m\u001b[1;33m=\u001b[0m\u001b[1;32mNone\u001b[0m\u001b[1;33m)\u001b[0m\u001b[1;33m\u001b[0m\u001b[1;33m\u001b[0m\u001b[0m\n",
      "\u001b[1;32m<ipython-input-52-9eb27b95e0ab>\u001b[0m in \u001b[0;36mdggs_json_to_geojson_feature\u001b[1;34m(dggs_json)\u001b[0m\n\u001b[0;32m      2\u001b[0m \u001b[1;33m\u001b[0m\u001b[0m\n\u001b[0;32m      3\u001b[0m \u001b[1;32mdef\u001b[0m \u001b[0mdggs_json_to_geojson_feature\u001b[0m\u001b[1;33m(\u001b[0m\u001b[0mdggs_json\u001b[0m\u001b[1;33m)\u001b[0m\u001b[1;33m:\u001b[0m\u001b[1;33m\u001b[0m\u001b[1;33m\u001b[0m\u001b[0m\n\u001b[1;32m----> 4\u001b[1;33m     \u001b[0mcell_id\u001b[0m \u001b[1;33m=\u001b[0m \u001b[0mdggs_json\u001b[0m\u001b[1;33m[\u001b[0m\u001b[1;34m'id'\u001b[0m\u001b[1;33m]\u001b[0m\u001b[1;33m\u001b[0m\u001b[1;33m\u001b[0m\u001b[0m\n\u001b[0m\u001b[0;32m      5\u001b[0m     \u001b[0mcell_id2\u001b[0m \u001b[1;33m=\u001b[0m \u001b[0mdggs_json\u001b[0m\u001b[1;33m[\u001b[0m\u001b[1;34m'geometry'\u001b[0m\u001b[1;33m]\u001b[0m\u001b[1;33m[\u001b[0m\u001b[1;36m0\u001b[0m\u001b[1;33m]\u001b[0m\u001b[1;33m\u001b[0m\u001b[1;33m\u001b[0m\u001b[0m\n\u001b[0;32m      6\u001b[0m     \u001b[1;32massert\u001b[0m\u001b[1;33m(\u001b[0m\u001b[0mcell_id\u001b[0m \u001b[1;33m==\u001b[0m \u001b[0mcell_id2\u001b[0m\u001b[1;33m)\u001b[0m\u001b[1;33m\u001b[0m\u001b[1;33m\u001b[0m\u001b[0m\n",
      "\u001b[1;31mTypeError\u001b[0m: list indices must be integers or slices, not str"
     ]
    }
   ],
   "source": [
    "zone_geojson_collection = dggs_json_to_geojson_feature(zone_json['features'])\n",
    "visualize_polygon_features(zone_geojson_collection, color=\"blue\", folium_map=None)"
   ]
  },
  {
   "cell_type": "code",
   "execution_count": null,
   "metadata": {},
   "outputs": [],
   "source": []
  },
  {
   "cell_type": "code",
   "execution_count": null,
   "metadata": {},
   "outputs": [],
   "source": []
  },
  {
   "cell_type": "code",
   "execution_count": null,
   "metadata": {},
   "outputs": [],
   "source": []
  },
  {
   "cell_type": "code",
   "execution_count": null,
   "metadata": {},
   "outputs": [],
   "source": []
  },
  {
   "cell_type": "markdown",
   "metadata": {},
   "source": [
    "## manual H3 cells, size and resolutions for reference"
   ]
  },
  {
   "cell_type": "code",
   "execution_count": 99,
   "metadata": {},
   "outputs": [],
   "source": [
    "minx, miny, maxx, maxy = [25.32, 58.27, 26.82, 58.67]\n",
    "resolution = 5\n",
    "\n",
    "area_json = {'type': 'Polygon',\n",
    "            'coordinates': [\n",
    "                [\n",
    "                    [miny, minx],\n",
    "                    [miny, maxx],\n",
    "                    [maxy, maxx],\n",
    "                    [maxy, minx],\n",
    "                    [miny, minx]\n",
    "                ]\n",
    "            ]\n",
    "        }\n",
    "zone_id_list_from_fill = h3.polyfill(area_json, resolution)"
   ]
  },
  {
   "cell_type": "code",
   "execution_count": 100,
   "metadata": {},
   "outputs": [
    {
     "data": {
      "text/plain": [
       "19"
      ]
     },
     "execution_count": 100,
     "metadata": {},
     "output_type": "execute_result"
    }
   ],
   "source": [
    "len(zone_id_list_from_fill)"
   ]
  },
  {
   "cell_type": "code",
   "execution_count": 121,
   "metadata": {},
   "outputs": [
    {
     "data": {
      "text/plain": [
       "5"
      ]
     },
     "execution_count": 121,
     "metadata": {},
     "output_type": "execute_result"
    }
   ],
   "source": [
    "h3.h3_get_resolution(\"8511346bfffffff\")"
   ]
  },
  {
   "cell_type": "code",
   "execution_count": 115,
   "metadata": {},
   "outputs": [
    {
     "data": {
      "text/plain": [
       "True"
      ]
     },
     "execution_count": 115,
     "metadata": {},
     "output_type": "execute_result"
    }
   ],
   "source": [
    "\"8511340bfffffff\" in zone_id_list_from_fill"
   ]
  },
  {
   "cell_type": "code",
   "execution_count": 103,
   "metadata": {},
   "outputs": [
    {
     "data": {
      "text/plain": [
       "{'8511340bfffffff',\n",
       " '8511341bfffffff',\n",
       " '85113443fffffff',\n",
       " '85113447fffffff',\n",
       " '8511344ffffffff',\n",
       " '85113453fffffff',\n",
       " '85113457fffffff',\n",
       " '85113463fffffff',\n",
       " '8511346bfffffff',\n",
       " '8511346ffffffff',\n",
       " '85113473fffffff',\n",
       " '8511347bfffffff',\n",
       " '851134c3fffffff',\n",
       " '851134c7fffffff',\n",
       " '851134cbfffffff',\n",
       " '851134cffffffff',\n",
       " '851134dbfffffff',\n",
       " '851136a7fffffff',\n",
       " '851136b7fffffff'}"
      ]
     },
     "execution_count": 103,
     "metadata": {},
     "output_type": "execute_result"
    }
   ],
   "source": [
    "zone_id_list_from_fill"
   ]
  },
  {
   "cell_type": "code",
   "execution_count": 101,
   "metadata": {},
   "outputs": [
    {
     "data": {
      "text/html": [
       "<div style=\"width:100%;\"><div style=\"position:relative;width:100%;height:0;padding-bottom:60%;\"><span style=\"color:#565656\">Make this Notebook Trusted to load map: File -> Trust Notebook</span><iframe src=\"about:blank\" style=\"position:absolute;width:100%;height:100%;left:0;top:0;border:none !important;\" data-html=PCFET0NUWVBFIGh0bWw+CjxoZWFkPiAgICAKICAgIDxtZXRhIGh0dHAtZXF1aXY9ImNvbnRlbnQtdHlwZSIgY29udGVudD0idGV4dC9odG1sOyBjaGFyc2V0PVVURi04IiAvPgogICAgCiAgICAgICAgPHNjcmlwdD4KICAgICAgICAgICAgTF9OT19UT1VDSCA9IGZhbHNlOwogICAgICAgICAgICBMX0RJU0FCTEVfM0QgPSBmYWxzZTsKICAgICAgICA8L3NjcmlwdD4KICAgIAogICAgPHNjcmlwdCBzcmM9Imh0dHBzOi8vY2RuLmpzZGVsaXZyLm5ldC9ucG0vbGVhZmxldEAxLjYuMC9kaXN0L2xlYWZsZXQuanMiPjwvc2NyaXB0PgogICAgPHNjcmlwdCBzcmM9Imh0dHBzOi8vY29kZS5qcXVlcnkuY29tL2pxdWVyeS0xLjEyLjQubWluLmpzIj48L3NjcmlwdD4KICAgIDxzY3JpcHQgc3JjPSJodHRwczovL21heGNkbi5ib290c3RyYXBjZG4uY29tL2Jvb3RzdHJhcC8zLjIuMC9qcy9ib290c3RyYXAubWluLmpzIj48L3NjcmlwdD4KICAgIDxzY3JpcHQgc3JjPSJodHRwczovL2NkbmpzLmNsb3VkZmxhcmUuY29tL2FqYXgvbGlicy9MZWFmbGV0LmF3ZXNvbWUtbWFya2Vycy8yLjAuMi9sZWFmbGV0LmF3ZXNvbWUtbWFya2Vycy5qcyI+PC9zY3JpcHQ+CiAgICA8bGluayByZWw9InN0eWxlc2hlZXQiIGhyZWY9Imh0dHBzOi8vY2RuLmpzZGVsaXZyLm5ldC9ucG0vbGVhZmxldEAxLjYuMC9kaXN0L2xlYWZsZXQuY3NzIi8+CiAgICA8bGluayByZWw9InN0eWxlc2hlZXQiIGhyZWY9Imh0dHBzOi8vbWF4Y2RuLmJvb3RzdHJhcGNkbi5jb20vYm9vdHN0cmFwLzMuMi4wL2Nzcy9ib290c3RyYXAubWluLmNzcyIvPgogICAgPGxpbmsgcmVsPSJzdHlsZXNoZWV0IiBocmVmPSJodHRwczovL21heGNkbi5ib290c3RyYXBjZG4uY29tL2Jvb3RzdHJhcC8zLjIuMC9jc3MvYm9vdHN0cmFwLXRoZW1lLm1pbi5jc3MiLz4KICAgIDxsaW5rIHJlbD0ic3R5bGVzaGVldCIgaHJlZj0iaHR0cHM6Ly9tYXhjZG4uYm9vdHN0cmFwY2RuLmNvbS9mb250LWF3ZXNvbWUvNC42LjMvY3NzL2ZvbnQtYXdlc29tZS5taW4uY3NzIi8+CiAgICA8bGluayByZWw9InN0eWxlc2hlZXQiIGhyZWY9Imh0dHBzOi8vY2RuanMuY2xvdWRmbGFyZS5jb20vYWpheC9saWJzL0xlYWZsZXQuYXdlc29tZS1tYXJrZXJzLzIuMC4yL2xlYWZsZXQuYXdlc29tZS1tYXJrZXJzLmNzcyIvPgogICAgPGxpbmsgcmVsPSJzdHlsZXNoZWV0IiBocmVmPSJodHRwczovL3Jhd2Nkbi5naXRoYWNrLmNvbS9weXRob24tdmlzdWFsaXphdGlvbi9mb2xpdW0vbWFzdGVyL2ZvbGl1bS90ZW1wbGF0ZXMvbGVhZmxldC5hd2Vzb21lLnJvdGF0ZS5jc3MiLz4KICAgIDxzdHlsZT5odG1sLCBib2R5IHt3aWR0aDogMTAwJTtoZWlnaHQ6IDEwMCU7bWFyZ2luOiAwO3BhZGRpbmc6IDA7fTwvc3R5bGU+CiAgICA8c3R5bGU+I21hcCB7cG9zaXRpb246YWJzb2x1dGU7dG9wOjA7Ym90dG9tOjA7cmlnaHQ6MDtsZWZ0OjA7fTwvc3R5bGU+CiAgICAKICAgICAgICAgICAgPG1ldGEgbmFtZT0idmlld3BvcnQiIGNvbnRlbnQ9IndpZHRoPWRldmljZS13aWR0aCwKICAgICAgICAgICAgICAgIGluaXRpYWwtc2NhbGU9MS4wLCBtYXhpbXVtLXNjYWxlPTEuMCwgdXNlci1zY2FsYWJsZT1ubyIgLz4KICAgICAgICAgICAgPHN0eWxlPgogICAgICAgICAgICAgICAgI21hcF9lMjg5ZDdhOWE4MGU0MjA4YTg4MTA3NGNkMWUxOTRkZCB7CiAgICAgICAgICAgICAgICAgICAgcG9zaXRpb246IHJlbGF0aXZlOwogICAgICAgICAgICAgICAgICAgIHdpZHRoOiA4MDAuMHB4OwogICAgICAgICAgICAgICAgICAgIGhlaWdodDogNjAwLjBweDsKICAgICAgICAgICAgICAgICAgICBsZWZ0OiAwLjAlOwogICAgICAgICAgICAgICAgICAgIHRvcDogMC4wJTsKICAgICAgICAgICAgICAgIH0KICAgICAgICAgICAgPC9zdHlsZT4KICAgICAgICAKPC9oZWFkPgo8Ym9keT4gICAgCiAgICAKICAgICAgICAgICAgPGRpdiBjbGFzcz0iZm9saXVtLW1hcCIgaWQ9Im1hcF9lMjg5ZDdhOWE4MGU0MjA4YTg4MTA3NGNkMWUxOTRkZCIgPjwvZGl2PgogICAgICAgIAo8L2JvZHk+CjxzY3JpcHQ+ICAgIAogICAgCiAgICAgICAgICAgIHZhciBtYXBfZTI4OWQ3YTlhODBlNDIwOGE4ODEwNzRjZDFlMTk0ZGQgPSBMLm1hcCgKICAgICAgICAgICAgICAgICJtYXBfZTI4OWQ3YTlhODBlNDIwOGE4ODEwNzRjZDFlMTk0ZGQiLAogICAgICAgICAgICAgICAgewogICAgICAgICAgICAgICAgICAgIGNlbnRlcjogWzU4LjQ4NDg5MTc2NTEzMTQ4LCAyNi4wNzY1OTgzMjM4NjQ3NzJdLAogICAgICAgICAgICAgICAgICAgIGNyczogTC5DUlMuRVBTRzM4NTcsCiAgICAgICAgICAgICAgICAgICAgem9vbTogMTMsCiAgICAgICAgICAgICAgICAgICAgem9vbUNvbnRyb2w6IHRydWUsCiAgICAgICAgICAgICAgICAgICAgcHJlZmVyQ2FudmFzOiBmYWxzZSwKICAgICAgICAgICAgICAgIH0KICAgICAgICAgICAgKTsKCiAgICAgICAgICAgIAoKICAgICAgICAKICAgIAogICAgICAgICAgICB2YXIgdGlsZV9sYXllcl81MGQ3ZTQ3ZmU4OWY0NDI2YmE2ODBlYTM3MWJjMGUwZSA9IEwudGlsZUxheWVyKAogICAgICAgICAgICAgICAgImh0dHBzOi8vY2FydG9kYi1iYXNlbWFwcy17c30uZ2xvYmFsLnNzbC5mYXN0bHkubmV0L2xpZ2h0X2FsbC97en0ve3h9L3t5fS5wbmciLAogICAgICAgICAgICAgICAgeyJhdHRyaWJ1dGlvbiI6ICJcdTAwMjZjb3B5OyBcdTAwM2NhIGhyZWY9XCJodHRwOi8vd3d3Lm9wZW5zdHJlZXRtYXAub3JnL2NvcHlyaWdodFwiXHUwMDNlT3BlblN0cmVldE1hcFx1MDAzYy9hXHUwMDNlIGNvbnRyaWJ1dG9ycyBcdTAwMjZjb3B5OyBcdTAwM2NhIGhyZWY9XCJodHRwOi8vY2FydG9kYi5jb20vYXR0cmlidXRpb25zXCJcdTAwM2VDYXJ0b0RCXHUwMDNjL2FcdTAwM2UsIENhcnRvREIgXHUwMDNjYSBocmVmID1cImh0dHA6Ly9jYXJ0b2RiLmNvbS9hdHRyaWJ1dGlvbnNcIlx1MDAzZWF0dHJpYnV0aW9uc1x1MDAzYy9hXHUwMDNlIiwgImRldGVjdFJldGluYSI6IGZhbHNlLCAibWF4TmF0aXZlWm9vbSI6IDE4LCAibWF4Wm9vbSI6IDE4LCAibWluWm9vbSI6IDAsICJub1dyYXAiOiBmYWxzZSwgIm9wYWNpdHkiOiAxLCAic3ViZG9tYWlucyI6ICJhYmMiLCAidG1zIjogZmFsc2V9CiAgICAgICAgICAgICkuYWRkVG8obWFwX2UyODlkN2E5YTgwZTQyMDhhODgxMDc0Y2QxZTE5NGRkKTsKICAgICAgICAKICAgIAogICAgICAgICAgICB2YXIgcG9seV9saW5lX2NhZDU3Y2FhYjZjZDQwZTFhNjgxMDBiZjE2MjQyOTFjID0gTC5wb2x5bGluZSgKICAgICAgICAgICAgICAgIFtbNTguMzc5MDY3NjIzODc3NTYsIDI1LjQ0ODEwNTE2NzY2ODE5Nl0sIFs1OC40MTQ2NTgxNDAxMDIyNzYsIDI1LjMyMjk2NDEyODk0ODAxMl0sIFs1OC4zNjYyMjQ1Mjg5NDMwOCwgMjUuMjA3NzM1NTk0NzUwNjUyXSwgWzU4LjMyNDI5MDkzMDg4MDM5NSwgMjUuMjEyNzE1MTI4MzMxMjQ3XSwgWzU4LjI4Nzk0MjQwNzAyODg2LCAyNS4yMDgyOTYxMjkyNjk1NzddLCBbNTguMjQ2NzkxNDA0NjMzMzIsIDI1LjM0MjMzMTI1NDI2OTQ0Nl0sIFs1OC4yOTUwNzI3OTI5NzM1NCwgMjUuNDU3NTIzNDc1MTg1MDNdLCBbNTguMzc5MDY3NjIzODc3NTYsIDI1LjQ0ODEwNTE2NzY2ODE5Nl1dLAogICAgICAgICAgICAgICAgeyJidWJibGluZ01vdXNlRXZlbnRzIjogdHJ1ZSwgImNvbG9yIjogInJlZCIsICJkYXNoQXJyYXkiOiBudWxsLCAiZGFzaE9mZnNldCI6IG51bGwsICJmaWxsIjogZmFsc2UsICJmaWxsQ29sb3IiOiAicmVkIiwgImZpbGxPcGFjaXR5IjogMC4yLCAiZmlsbFJ1bGUiOiAiZXZlbm9kZCIsICJsaW5lQ2FwIjogInJvdW5kIiwgImxpbmVKb2luIjogInJvdW5kIiwgIm5vQ2xpcCI6IGZhbHNlLCAib3BhY2l0eSI6IDEuMCwgInNtb290aEZhY3RvciI6IDEuMCwgInN0cm9rZSI6IHRydWUsICJ3ZWlnaHQiOiA4fQogICAgICAgICAgICApLmFkZFRvKG1hcF9lMjg5ZDdhOWE4MGU0MjA4YTg4MTA3NGNkMWUxOTRkZCk7CiAgICAgICAgCiAgICAKICAgICAgICAgICAgdmFyIHBvbHlfbGluZV9jMmZlMWEyZGRiMzc0Yjg5YWI3MDhmZTNjYzAzNjFjNyA9IEwucG9seWxpbmUoCiAgICAgICAgICAgICAgICBbWzU4LjczODIzNDAzMzM3NzAwNSwgMjYuNzYxMjAyOTY5Mzg1NzM1XSwgWzU4LjY5MDU3OTczOTEzMTc4LCAyNi42NDEyNDY4ODg3MTkwM10sIFs1OC42MDYwNDEzNjQ1MjA2LCAyNi42NDgwNTQzOTA2OTQzMTZdLCBbNTguNTY5MDQwNDY0NjExMzc2LCAyNi43NzQyNTk0NTAzMTUyNzddLCBbNTguNjE2NTM5ODA4MzcxMzgsIDI2Ljg5NDE0OTA2OTg1ODc0XSwgWzU4LjcwMTE5NDgxMDAwNTM1LCAyNi44ODc5MDEwNzczMTM0MjNdLCBbNTguNzM4MjM0MDMzMzc3MDA1LCAyNi43NjEyMDI5NjkzODU3MzVdXSwKICAgICAgICAgICAgICAgIHsiYnViYmxpbmdNb3VzZUV2ZW50cyI6IHRydWUsICJjb2xvciI6ICJyZWQiLCAiZGFzaEFycmF5IjogbnVsbCwgImRhc2hPZmZzZXQiOiBudWxsLCAiZmlsbCI6IGZhbHNlLCAiZmlsbENvbG9yIjogInJlZCIsICJmaWxsT3BhY2l0eSI6IDAuMiwgImZpbGxSdWxlIjogImV2ZW5vZGQiLCAibGluZUNhcCI6ICJyb3VuZCIsICJsaW5lSm9pbiI6ICJyb3VuZCIsICJub0NsaXAiOiBmYWxzZSwgIm9wYWNpdHkiOiAxLjAsICJzbW9vdGhGYWN0b3IiOiAxLjAsICJzdHJva2UiOiB0cnVlLCAid2VpZ2h0IjogOH0KICAgICAgICAgICAgKS5hZGRUbyhtYXBfZTI4OWQ3YTlhODBlNDIwOGE4ODEwNzRjZDFlMTk0ZGQpOwogICAgICAgIAogICAgCiAgICAgICAgICAgIHZhciBwb2x5X2xpbmVfZTg0MTJhMzM2MzRhNDE2OGE3ZWZjZGUzOWMxZmJmZTQgPSBMLnBvbHlsaW5lKAogICAgICAgICAgICAgICAgW1s1OC41MTEzODE0OTk2ODA1NiwgMjUuNTU0Nzc2NjA3NjkwNjNdLCBbNTguNTU5NjY5MzkxNDAwMDY0LCAyNS42NzEzNjM5NjQ5Mjc3NDNdLCBbNTguNjQzNzMwMTcwODcwMzU2LCAyNS42NjIzNTYyOTc3NDAwMDhdLCBbNTguNjc5MzgxMTQ5MDg1ODMsIDI1LjUzNjIxOTgxMzE0MjM2XSwgWzU4LjYzMDk0MDU3NDk0MTQ1LCAyNS40MTk1OTEyOTA0Mjc0XSwgWzU4LjU0NzAwMTg3NjE4NzExLCAyNS40MjkxMzkzNzA3NTIzNjNdLCBbNTguNTExMzgxNDk5NjgwNTYsIDI1LjU1NDc3NjYwNzY5MDYzXV0sCiAgICAgICAgICAgICAgICB7ImJ1YmJsaW5nTW91c2VFdmVudHMiOiB0cnVlLCAiY29sb3IiOiAicmVkIiwgImRhc2hBcnJheSI6IG51bGwsICJkYXNoT2Zmc2V0IjogbnVsbCwgImZpbGwiOiBmYWxzZSwgImZpbGxDb2xvciI6ICJyZWQiLCAiZmlsbE9wYWNpdHkiOiAwLjIsICJmaWxsUnVsZSI6ICJldmVub2RkIiwgImxpbmVDYXAiOiAicm91bmQiLCAibGluZUpvaW4iOiAicm91bmQiLCAibm9DbGlwIjogZmFsc2UsICJvcGFjaXR5IjogMS4wLCAic21vb3RoRmFjdG9yIjogMS4wLCAic3Ryb2tlIjogdHJ1ZSwgIndlaWdodCI6IDh9CiAgICAgICAgICAgICkuYWRkVG8obWFwX2UyODlkN2E5YTgwZTQyMDhhODgxMDc0Y2QxZTE5NGRkKTsKICAgICAgICAKICAgIAogICAgICAgICAgICB2YXIgcG9seV9saW5lXzdhNGE5MDhhOTk1ZTQ5MzQ4YTZmY2U5MzkwZjcyZGQ5ID0gTC5wb2x5bGluZSgKICAgICAgICAgICAgICAgIFtbNTguNDI3MzUzMTYxNTI5NzYsIDI1LjU2Mzk5MTUzMTA5OTMzXSwgWzU4LjM3OTA2NzYyMzg3NzU2LCAyNS40NDgxMDUxNjc2NjgxOTZdLCBbNTguMjk1MDcyNzkyOTczNTQsIDI1LjQ1NzUyMzQ3NTE4NTAzXSwgWzU4LjI1OTI0MTI2NzAzMDU5NiwgMjUuNTgyMjk1ODY4NjgxNDddLCBbNTguMzA3Mzc0MDk2MzI1NjQsIDI1LjY5ODE0MTA4NDY2MTc4XSwgWzU4LjM5MTQ5MDk5MTk2NjE5LCAyNS42ODkyNTYwNzg1MjU5MzNdLCBbNTguNDI3MzUzMTYxNTI5NzYsIDI1LjU2Mzk5MTUzMTA5OTMzXV0sCiAgICAgICAgICAgICAgICB7ImJ1YmJsaW5nTW91c2VFdmVudHMiOiB0cnVlLCAiY29sb3IiOiAicmVkIiwgImRhc2hBcnJheSI6IG51bGwsICJkYXNoT2Zmc2V0IjogbnVsbCwgImZpbGwiOiBmYWxzZSwgImZpbGxDb2xvciI6ICJyZWQiLCAiZmlsbE9wYWNpdHkiOiAwLjIsICJmaWxsUnVsZSI6ICJldmVub2RkIiwgImxpbmVDYXAiOiAicm91bmQiLCAibGluZUpvaW4iOiAicm91bmQiLCAibm9DbGlwIjogZmFsc2UsICJvcGFjaXR5IjogMS4wLCAic21vb3RoRmFjdG9yIjogMS4wLCAic3Ryb2tlIjogdHJ1ZSwgIndlaWdodCI6IDh9CiAgICAgICAgICAgICkuYWRkVG8obWFwX2UyODlkN2E5YTgwZTQyMDhhODgxMDc0Y2QxZTE5NGRkKTsKICAgICAgICAKICAgIAogICAgICAgICAgICB2YXIgcG9seV9saW5lXzI4YzU2YjEwMzAyZDRkOTM4MTkzNWY1ZGE0ZGQ3OTQwID0gTC5wb2x5bGluZSgKICAgICAgICAgICAgICAgIFtbNTguNDE1MDYyNjQ2NTkzNDA1LCAyNi4xNzM4ODI2OTQ4MjcwNjhdLCBbNTguNDYyODg4ODkyMjc4MTE2LCAyNi4yOTE3Mzk1MDA1MDQ3ODZdLCBbNTguNTQ3Mjc4NjkzNTA2NjMsIDI2LjI4NDE1MjMxMDU3NTQ1OF0sIFs1OC41ODM3MjMwMTEyMjU2ODYsIDI2LjE1ODE2MDkyNTc4MDg3M10sIFs1OC41MzU3NDI5MDM3MTI2OSwgMjYuMDQwMjUwNTcwMjI4OTk1XSwgWzU4LjQ1MTQ3MjUyMDQ3Mjk3NiwgMjYuMDQ4Mzg0MTQyNjM2MTY2XSwgWzU4LjQxNTA2MjY0NjU5MzQwNSwgMjYuMTczODgyNjk0ODI3MDY4XV0sCiAgICAgICAgICAgICAgICB7ImJ1YmJsaW5nTW91c2VFdmVudHMiOiB0cnVlLCAiY29sb3IiOiAicmVkIiwgImRhc2hBcnJheSI6IG51bGwsICJkYXNoT2Zmc2V0IjogbnVsbCwgImZpbGwiOiBmYWxzZSwgImZpbGxDb2xvciI6ICJyZWQiLCAiZmlsbE9wYWNpdHkiOiAwLjIsICJmaWxsUnVsZSI6ICJldmVub2RkIiwgImxpbmVDYXAiOiAicm91bmQiLCAibGluZUpvaW4iOiAicm91bmQiLCAibm9DbGlwIjogZmFsc2UsICJvcGFjaXR5IjogMS4wLCAic21vb3RoRmFjdG9yIjogMS4wLCAic3Ryb2tlIjogdHJ1ZSwgIndlaWdodCI6IDh9CiAgICAgICAgICAgICkuYWRkVG8obWFwX2UyODlkN2E5YTgwZTQyMDhhODgxMDc0Y2QxZTE5NGRkKTsKICAgICAgICAKICAgIAogICAgICAgICAgICB2YXIgcG9seV9saW5lXzE5NTg1OTdiNjkxNzQ4OTQ5Yjg2ZmU1OTY5ZDQ5NzJmID0gTC5wb2x5bGluZSgKICAgICAgICAgICAgICAgIFtbNTguNjkyMDE4NTk5NTE5ODksIDI1Ljc3OTY1MTU4NTEyNzM5N10sIFs1OC42NDM3MzAxNzA4NzAzNTYsIDI1LjY2MjM1NjI5Nzc0MDAwOF0sIFs1OC41NTk2NjkzOTE0MDAwNjQsIDI1LjY3MTM2Mzk2NDkyNzc0M10sIFs1OC41MjM3NzU4MzkyMDAwNCwgMjUuNzk3MTIzNjYwMTY4NzQ0XSwgWzU4LjU3MTkxMTEwNjMyNzExLCAyNS45MTQzNzI4MDY2NzQ5MzNdLCBbNTguNjU2MDkyOTExNzEyNzUsIDI1LjkwNTkwOTQzNDU0NDA0Nl0sIFs1OC42OTIwMTg1OTk1MTk4OSwgMjUuNzc5NjUxNTg1MTI3Mzk3XV0sCiAgICAgICAgICAgICAgICB7ImJ1YmJsaW5nTW91c2VFdmVudHMiOiB0cnVlLCAiY29sb3IiOiAicmVkIiwgImRhc2hBcnJheSI6IG51bGwsICJkYXNoT2Zmc2V0IjogbnVsbCwgImZpbGwiOiBmYWxzZSwgImZpbGxDb2xvciI6ICJyZWQiLCAiZmlsbE9wYWNpdHkiOiAwLjIsICJmaWxsUnVsZSI6ICJldmVub2RkIiwgImxpbmVDYXAiOiAicm91bmQiLCAibGluZUpvaW4iOiAicm91bmQiLCAibm9DbGlwIjogZmFsc2UsICJvcGFjaXR5IjogMS4wLCAic21vb3RoRmFjdG9yIjogMS4wLCAic3Ryb2tlIjogdHJ1ZSwgIndlaWdodCI6IDh9CiAgICAgICAgICAgICkuYWRkVG8obWFwX2UyODlkN2E5YTgwZTQyMDhhODgxMDc0Y2QxZTE5NGRkKTsKICAgICAgICAKICAgIAogICAgICAgICAgICB2YXIgcG9seV9saW5lX2VkNTQxYmZiMTQwYzQwMGE4YTNiODdkYjQ2MjJkNGMxID0gTC5wb2x5bGluZSgKICAgICAgICAgICAgICAgIFtbNTguNjc5NTIxNzE5NjMwMzk0LCAyNi4zOTUzNTk5NDk3MjQyMjddLCBbNTguNzE2MDAxMjU2OTcwMjMsIDI2LjI2ODg3MjgxNjA0MTAyXSwgWzU4LjY2ODAyNDc2OTc1MzUxLCAyNi4xNTAyNDU3MDA2NDc5Ml0sIFs1OC41ODM3MjMwMTEyMjU2ODYsIDI2LjE1ODE2MDkyNTc4MDg3M10sIFs1OC41NDcyNzg2OTM1MDY2MywgMjYuMjg0MTUyMzEwNTc1NDU4XSwgWzU4LjU5NTEwMTA5ODcwNTUzLCAyNi40MDI3MjMyMDcyNDQ0MDZdLCBbNTguNjc5NTIxNzE5NjMwMzk0LCAyNi4zOTUzNTk5NDk3MjQyMjddXSwKICAgICAgICAgICAgICAgIHsiYnViYmxpbmdNb3VzZUV2ZW50cyI6IHRydWUsICJjb2xvciI6ICJyZWQiLCAiZGFzaEFycmF5IjogbnVsbCwgImRhc2hPZmZzZXQiOiBudWxsLCAiZmlsbCI6IGZhbHNlLCAiZmlsbENvbG9yIjogInJlZCIsICJmaWxsT3BhY2l0eSI6IDAuMiwgImZpbGxSdWxlIjogImV2ZW5vZGQiLCAibGluZUNhcCI6ICJyb3VuZCIsICJsaW5lSm9pbiI6ICJyb3VuZCIsICJub0NsaXAiOiBmYWxzZSwgIm9wYWNpdHkiOiAxLjAsICJzbW9vdGhGYWN0b3IiOiAxLjAsICJzdHJva2UiOiB0cnVlLCAid2VpZ2h0IjogOH0KICAgICAgICAgICAgKS5hZGRUbyhtYXBfZTI4OWQ3YTlhODBlNDIwOGE4ODEwNzRjZDFlMTk0ZGQpOwogICAgICAgIAogICAgCiAgICAgICAgICAgIHZhciBwb2x5X2xpbmVfZWEzMDhkM2Y3Y2ZiNGQxZjhlZDc1ZjRiYzI3ZjI3MDEgPSBMLnBvbHlsaW5lKAogICAgICAgICAgICAgICAgW1s1OC42Nzk1MjE3MTk2MzAzOTQsIDI2LjM5NTM1OTk0OTcyNDIyN10sIFs1OC41OTUxMDEwOTg3MDU1MywgMjYuNDAyNzIzMjA3MjQ0NDA2XSwgWzU4LjU1ODM3OTIxMTYxNTI3NSwgMjYuNTI4ODIzNzA5NDk3MDcyXSwgWzU4LjYwNjA0MTM2NDUyMDYsIDI2LjY0ODA1NDM5MDY5NDMxNl0sIFs1OC42OTA1Nzk3MzkxMzE3OCwgMjYuNjQxMjQ2ODg4NzE5MDNdLCBbNTguNzI3MzM4Mzk1NDIyNTksIDI2LjUxNDY1MTk1MDY1MTk4NF0sIFs1OC42Nzk1MjE3MTk2MzAzOTQsIDI2LjM5NTM1OTk0OTcyNDIyN11dLAogICAgICAgICAgICAgICAgeyJidWJibGluZ01vdXNlRXZlbnRzIjogdHJ1ZSwgImNvbG9yIjogInJlZCIsICJkYXNoQXJyYXkiOiBudWxsLCAiZGFzaE9mZnNldCI6IG51bGwsICJmaWxsIjogZmFsc2UsICJmaWxsQ29sb3IiOiAicmVkIiwgImZpbGxPcGFjaXR5IjogMC4yLCAiZmlsbFJ1bGUiOiAiZXZlbm9kZCIsICJsaW5lQ2FwIjogInJvdW5kIiwgImxpbmVKb2luIjogInJvdW5kIiwgIm5vQ2xpcCI6IGZhbHNlLCAib3BhY2l0eSI6IDEuMCwgInNtb290aEZhY3RvciI6IDEuMCwgInN0cm9rZSI6IHRydWUsICJ3ZWlnaHQiOiA4fQogICAgICAgICAgICApLmFkZFRvKG1hcF9lMjg5ZDdhOWE4MGU0MjA4YTg4MTA3NGNkMWUxOTRkZCk7CiAgICAgICAgCiAgICAKICAgICAgICAgICAgdmFyIHBvbHlfbGluZV8xNzNjNTliZWZiNGI0MzFiOWNmYzAyYWJlMDg5ZWRlMyA9IEwucG9seWxpbmUoCiAgICAgICAgICAgICAgICBbWzU4LjQ3Mzg3MTA4NTg4Mzc3LCAyNi41MzU4NjA3NTQwMTQ1NzVdLCBbNTguNDM2OTA3NzExMjU0MjY0LCAyNi42NjE1NzU1ODYzMDE2Ml0sIFs1OC40ODQ0MTUxMjU2ODkxNCwgMjYuNzgwNzQyNjE5NDQ0NDE4XSwgWzU4LjU2OTA0MDQ2NDYxMTM3NiwgMjYuNzc0MjU5NDUwMzE1Mjc3XSwgWzU4LjYwNjA0MTM2NDUyMDYsIDI2LjY0ODA1NDM5MDY5NDMxNl0sIFs1OC41NTgzNzkyMTE2MTUyNzUsIDI2LjUyODgyMzcwOTQ5NzA3Ml0sIFs1OC40NzM4NzEwODU4ODM3NywgMjYuNTM1ODYwNzU0MDE0NTc1XV0sCiAgICAgICAgICAgICAgICB7ImJ1YmJsaW5nTW91c2VFdmVudHMiOiB0cnVlLCAiY29sb3IiOiAicmVkIiwgImRhc2hBcnJheSI6IG51bGwsICJkYXNoT2Zmc2V0IjogbnVsbCwgImZpbGwiOiBmYWxzZSwgImZpbGxDb2xvciI6ICJyZWQiLCAiZmlsbE9wYWNpdHkiOiAwLjIsICJmaWxsUnVsZSI6ICJldmVub2RkIiwgImxpbmVDYXAiOiAicm91bmQiLCAibGluZUpvaW4iOiAicm91bmQiLCAibm9DbGlwIjogZmFsc2UsICJvcGFjaXR5IjogMS4wLCAic21vb3RoRmFjdG9yIjogMS4wLCAic3Ryb2tlIjogdHJ1ZSwgIndlaWdodCI6IDh9CiAgICAgICAgICAgICkuYWRkVG8obWFwX2UyODlkN2E5YTgwZTQyMDhhODgxMDc0Y2QxZTE5NGRkKTsKICAgICAgICAKICAgIAogICAgICAgICAgICB2YXIgcG9seV9saW5lX2IxMDRhNTU0M2VhYjQzZjdhZDg2NGNiNTUxYTEyZjkwID0gTC5wb2x5bGluZSgKICAgICAgICAgICAgICAgIFtbNTguMzc5MDY3NjIzODc3NTYsIDI1LjQ0ODEwNTE2NzY2ODE5Nl0sIFs1OC40MjczNTMxNjE1Mjk3NiwgMjUuNTYzOTkxNTMxMDk5MzNdLCBbNTguNTExMzgxNDk5NjgwNTYsIDI1LjU1NDc3NjYwNzY5MDYzXSwgWzU4LjU0NzAwMTg3NjE4NzExLCAyNS40MjkxMzkzNzA3NTIzNjNdLCBbNTguNDk4NTYzODg2ODI4MDYsIDI1LjMxMzIxNDI5NjI3ODA3M10sIFs1OC40MTQ2NTgxNDAxMDIyNzYsIDI1LjMyMjk2NDEyODk0ODAxMl0sIFs1OC4zNzkwNjc2MjM4Nzc1NiwgMjUuNDQ4MTA1MTY3NjY4MTk2XV0sCiAgICAgICAgICAgICAgICB7ImJ1YmJsaW5nTW91c2VFdmVudHMiOiB0cnVlLCAiY29sb3IiOiAicmVkIiwgImRhc2hBcnJheSI6IG51bGwsICJkYXNoT2Zmc2V0IjogbnVsbCwgImZpbGwiOiBmYWxzZSwgImZpbGxDb2xvciI6ICJyZWQiLCAiZmlsbE9wYWNpdHkiOiAwLjIsICJmaWxsUnVsZSI6ICJldmVub2RkIiwgImxpbmVDYXAiOiAicm91bmQiLCAibGluZUpvaW4iOiAicm91bmQiLCAibm9DbGlwIjogZmFsc2UsICJvcGFjaXR5IjogMS4wLCAic21vb3RoRmFjdG9yIjogMS4wLCAic3Ryb2tlIjogdHJ1ZSwgIndlaWdodCI6IDh9CiAgICAgICAgICAgICkuYWRkVG8obWFwX2UyODlkN2E5YTgwZTQyMDhhODgxMDc0Y2QxZTE5NGRkKTsKICAgICAgICAKICAgIAogICAgICAgICAgICB2YXIgcG9seV9saW5lX2Y1ODVmMWQzZTMzYjRjNWZhYjkxZWE4YzgxNDU2Y2YwID0gTC5wb2x5bGluZSgKICAgICAgICAgICAgICAgIFtbNTguNDI3MzUzMTYxNTI5NzYsIDI1LjU2Mzk5MTUzMTA5OTMzXSwgWzU4LjM5MTQ5MDk5MTk2NjE5LCAyNS42ODkyNTYwNzg1MjU5MzNdLCBbNTguNDM5NjI1OTQ5NTk5MjEsIDI1LjgwNTc5OTgyMDQ5OTQ4XSwgWzU4LjUyMzc3NTgzOTIwMDA0LCAyNS43OTcxMjM2NjAxNjg3NDRdLCBbNTguNTU5NjY5MzkxNDAwMDY0LCAyNS42NzEzNjM5NjQ5Mjc3NDNdLCBbNTguNTExMzgxNDk5NjgwNTYsIDI1LjU1NDc3NjYwNzY5MDYzXSwgWzU4LjQyNzM1MzE2MTUyOTc2LCAyNS41NjM5OTE1MzEwOTkzM11dLAogICAgICAgICAgICAgICAgeyJidWJibGluZ01vdXNlRXZlbnRzIjogdHJ1ZSwgImNvbG9yIjogInJlZCIsICJkYXNoQXJyYXkiOiBudWxsLCAiZGFzaE9mZnNldCI6IG51bGwsICJmaWxsIjogZmFsc2UsICJmaWxsQ29sb3IiOiAicmVkIiwgImZpbGxPcGFjaXR5IjogMC4yLCAiZmlsbFJ1bGUiOiAiZXZlbm9kZCIsICJsaW5lQ2FwIjogInJvdW5kIiwgImxpbmVKb2luIjogInJvdW5kIiwgIm5vQ2xpcCI6IGZhbHNlLCAib3BhY2l0eSI6IDEuMCwgInNtb290aEZhY3RvciI6IDEuMCwgInN0cm9rZSI6IHRydWUsICJ3ZWlnaHQiOiA4fQogICAgICAgICAgICApLmFkZFRvKG1hcF9lMjg5ZDdhOWE4MGU0MjA4YTg4MTA3NGNkMWUxOTRkZCk7CiAgICAgICAgCiAgICAKICAgICAgICAgICAgdmFyIHBvbHlfbGluZV84ZTA1NTAxNTc1YTc0NTgyYmM0ZjU1ZTQ4MGJlODczMyA9IEwucG9seWxpbmUoCiAgICAgICAgICAgICAgICBbWzU4LjQzOTYyNTk0OTU5OTIxLCAyNS44MDU3OTk4MjA0OTk0OF0sIFs1OC40MDM0OTA2NTc1NjAwOSwgMjUuOTMxMTgzNTU3ODk2MzMzXSwgWzU4LjQ1MTQ3MjUyMDQ3Mjk3NiwgMjYuMDQ4Mzg0MTQyNjM2MTY2XSwgWzU4LjUzNTc0MjkwMzcxMjY5LCAyNi4wNDAyNTA1NzAyMjg5OTVdLCBbNTguNTcxOTExMTA2MzI3MTEsIDI1LjkxNDM3MjgwNjY3NDkzM10sIFs1OC41MjM3NzU4MzkyMDAwNCwgMjUuNzk3MTIzNjYwMTY4NzQ0XSwgWzU4LjQzOTYyNTk0OTU5OTIxLCAyNS44MDU3OTk4MjA0OTk0OF1dLAogICAgICAgICAgICAgICAgeyJidWJibGluZ01vdXNlRXZlbnRzIjogdHJ1ZSwgImNvbG9yIjogInJlZCIsICJkYXNoQXJyYXkiOiBudWxsLCAiZGFzaE9mZnNldCI6IG51bGwsICJmaWxsIjogZmFsc2UsICJmaWxsQ29sb3IiOiAicmVkIiwgImZpbGxPcGFjaXR5IjogMC4yLCAiZmlsbFJ1bGUiOiAiZXZlbm9kZCIsICJsaW5lQ2FwIjogInJvdW5kIiwgImxpbmVKb2luIjogInJvdW5kIiwgIm5vQ2xpcCI6IGZhbHNlLCAib3BhY2l0eSI6IDEuMCwgInNtb290aEZhY3RvciI6IDEuMCwgInN0cm9rZSI6IHRydWUsICJ3ZWlnaHQiOiA4fQogICAgICAgICAgICApLmFkZFRvKG1hcF9lMjg5ZDdhOWE4MGU0MjA4YTg4MTA3NGNkMWUxOTRkZCk7CiAgICAgICAgCiAgICAKICAgICAgICAgICAgdmFyIHBvbHlfbGluZV8yZDE3ZjAwNjMwYzY0ZGJiYWI1MGRiZTMzODc4Njk0NyA9IEwucG9seWxpbmUoCiAgICAgICAgICAgICAgICBbWzU4LjI5NDA1NDA3MjY1MDc3LCAyNi4zMDY4MDk5NjQwOTAzOThdLCBbNTguMzQxNzI2MjI2NTc2MjksIDI2LjQyNDYxMDg3MDU3MjE1XSwgWzU4LjQyNjIwMjk4NzM1MjE3LCAyNi40MTczNDg0MzYyMjcwOV0sIFs1OC40NjI4ODg4OTIyNzgxMTYsIDI2LjI5MTczOTUwMDUwNDc4Nl0sIFs1OC40MTUwNjI2NDY1OTM0MDUsIDI2LjE3Mzg4MjY5NDgyNzA2OF0sIFs1OC4zMzA3MDQ3NjgzMTExNCwgMjYuMTgxNjg5NzM0NDM5NTFdLCBbNTguMjk0MDU0MDcyNjUwNzcsIDI2LjMwNjgwOTk2NDA5MDM5OF1dLAogICAgICAgICAgICAgICAgeyJidWJibGluZ01vdXNlRXZlbnRzIjogdHJ1ZSwgImNvbG9yIjogInJlZCIsICJkYXNoQXJyYXkiOiBudWxsLCAiZGFzaE9mZnNldCI6IG51bGwsICJmaWxsIjogZmFsc2UsICJmaWxsQ29sb3IiOiAicmVkIiwgImZpbGxPcGFjaXR5IjogMC4yLCAiZmlsbFJ1bGUiOiAiZXZlbm9kZCIsICJsaW5lQ2FwIjogInJvdW5kIiwgImxpbmVKb2luIjogInJvdW5kIiwgIm5vQ2xpcCI6IGZhbHNlLCAib3BhY2l0eSI6IDEuMCwgInNtb290aEZhY3RvciI6IDEuMCwgInN0cm9rZSI6IHRydWUsICJ3ZWlnaHQiOiA4fQogICAgICAgICAgICApLmFkZFRvKG1hcF9lMjg5ZDdhOWE4MGU0MjA4YTg4MTA3NGNkMWUxOTRkZCk7CiAgICAgICAgCiAgICAKICAgICAgICAgICAgdmFyIHBvbHlfbGluZV80MGYyYWEwOWE5YWI0NzRjOWJjNzk4MjgzMTRhNDhhMSA9IEwucG9seWxpbmUoCiAgICAgICAgICAgICAgICBbWzU4LjQwMzQ5MDY1NzU2MDA5LCAyNS45MzExODM1NTc4OTYzMzNdLCBbNTguMzE5MjUyNzQwMjI0ODgsIDI1LjkzOTUzMTQ2NDk2ODU1N10sIFs1OC4yODI4NzY1NDg0ODQzMjUsIDI2LjA2NDU0MDA5MDc3NDY2N10sIFs1OC4zMzA3MDQ3NjgzMTExNCwgMjYuMTgxNjg5NzM0NDM5NTFdLCBbNTguNDE1MDYyNjQ2NTkzNDA1LCAyNi4xNzM4ODI2OTQ4MjcwNjhdLCBbNTguNDUxNDcyNTIwNDcyOTc2LCAyNi4wNDgzODQxNDI2MzYxNjZdLCBbNTguNDAzNDkwNjU3NTYwMDksIDI1LjkzMTE4MzU1Nzg5NjMzM11dLAogICAgICAgICAgICAgICAgeyJidWJibGluZ01vdXNlRXZlbnRzIjogdHJ1ZSwgImNvbG9yIjogInJlZCIsICJkYXNoQXJyYXkiOiBudWxsLCAiZGFzaE9mZnNldCI6IG51bGwsICJmaWxsIjogZmFsc2UsICJmaWxsQ29sb3IiOiAicmVkIiwgImZpbGxPcGFjaXR5IjogMC4yLCAiZmlsbFJ1bGUiOiAiZXZlbm9kZCIsICJsaW5lQ2FwIjogInJvdW5kIiwgImxpbmVKb2luIjogInJvdW5kIiwgIm5vQ2xpcCI6IGZhbHNlLCAib3BhY2l0eSI6IDEuMCwgInNtb290aEZhY3RvciI6IDEuMCwgInN0cm9rZSI6IHRydWUsICJ3ZWlnaHQiOiA4fQogICAgICAgICAgICApLmFkZFRvKG1hcF9lMjg5ZDdhOWE4MGU0MjA4YTg4MTA3NGNkMWUxOTRkZCk7CiAgICAgICAgCiAgICAKICAgICAgICAgICAgdmFyIHBvbHlfbGluZV8wZDFlYzc1NmYwOTA0ZWQyOTVjZDcxZmUyYWMyZGI1NSA9IEwucG9seWxpbmUoCiAgICAgICAgICAgICAgICBbWzU4LjQwMzQ5MDY1NzU2MDA5LCAyNS45MzExODM1NTc4OTYzMzNdLCBbNTguNDM5NjI1OTQ5NTk5MjEsIDI1LjgwNTc5OTgyMDQ5OTQ4XSwgWzU4LjM5MTQ5MDk5MTk2NjE5LCAyNS42ODkyNTYwNzg1MjU5MzNdLCBbNTguMzA3Mzc0MDk2MzI1NjQsIDI1LjY5ODE0MTA4NDY2MTc4XSwgWzU4LjI3MTI3MDk2NDQ1NzcsIDI1LjgyMzAzMzc0NjU5NDY1N10sIFs1OC4zMTkyNTI3NDAyMjQ4OCwgMjUuOTM5NTMxNDY0OTY4NTU3XSwgWzU4LjQwMzQ5MDY1NzU2MDA5LCAyNS45MzExODM1NTc4OTYzMzNdXSwKICAgICAgICAgICAgICAgIHsiYnViYmxpbmdNb3VzZUV2ZW50cyI6IHRydWUsICJjb2xvciI6ICJyZWQiLCAiZGFzaEFycmF5IjogbnVsbCwgImRhc2hPZmZzZXQiOiBudWxsLCAiZmlsbCI6IGZhbHNlLCAiZmlsbENvbG9yIjogInJlZCIsICJmaWxsT3BhY2l0eSI6IDAuMiwgImZpbGxSdWxlIjogImV2ZW5vZGQiLCAibGluZUNhcCI6ICJyb3VuZCIsICJsaW5lSm9pbiI6ICJyb3VuZCIsICJub0NsaXAiOiBmYWxzZSwgIm9wYWNpdHkiOiAxLjAsICJzbW9vdGhGYWN0b3IiOiAxLjAsICJzdHJva2UiOiB0cnVlLCAid2VpZ2h0IjogOH0KICAgICAgICAgICAgKS5hZGRUbyhtYXBfZTI4OWQ3YTlhODBlNDIwOGE4ODEwNzRjZDFlMTk0ZGQpOwogICAgICAgIAogICAgCiAgICAgICAgICAgIHZhciBwb2x5X2xpbmVfMGM3NzIxZDEwOWZhNGM1YTk5YmJiNzg4MzJmYTJhYTAgPSBMLnBvbHlsaW5lKAogICAgICAgICAgICAgICAgW1s1OC40MjYyMDI5ODczNTIxNywgMjYuNDE3MzQ4NDM2MjI3MDldLCBbNTguNDczODcxMDg1ODgzNzcsIDI2LjUzNTg2MDc1NDAxNDU3NV0sIFs1OC41NTgzNzkyMTE2MTUyNzUsIDI2LjUyODgyMzcwOTQ5NzA3Ml0sIFs1OC41OTUxMDEwOTg3MDU1MywgMjYuNDAyNzIzMjA3MjQ0NDA2XSwgWzU4LjU0NzI3ODY5MzUwNjYzLCAyNi4yODQxNTIzMTA1NzU0NThdLCBbNTguNDYyODg4ODkyMjc4MTE2LCAyNi4yOTE3Mzk1MDA1MDQ3ODZdLCBbNTguNDI2MjAyOTg3MzUyMTcsIDI2LjQxNzM0ODQzNjIyNzA5XV0sCiAgICAgICAgICAgICAgICB7ImJ1YmJsaW5nTW91c2VFdmVudHMiOiB0cnVlLCAiY29sb3IiOiAicmVkIiwgImRhc2hBcnJheSI6IG51bGwsICJkYXNoT2Zmc2V0IjogbnVsbCwgImZpbGwiOiBmYWxzZSwgImZpbGxDb2xvciI6ICJyZWQiLCAiZmlsbE9wYWNpdHkiOiAwLjIsICJmaWxsUnVsZSI6ICJldmVub2RkIiwgImxpbmVDYXAiOiAicm91bmQiLCAibGluZUpvaW4iOiAicm91bmQiLCAibm9DbGlwIjogZmFsc2UsICJvcGFjaXR5IjogMS4wLCAic21vb3RoRmFjdG9yIjogMS4wLCAic3Ryb2tlIjogdHJ1ZSwgIndlaWdodCI6IDh9CiAgICAgICAgICAgICkuYWRkVG8obWFwX2UyODlkN2E5YTgwZTQyMDhhODgxMDc0Y2QxZTE5NGRkKTsKICAgICAgICAKICAgIAogICAgICAgICAgICB2YXIgcG9seV9saW5lXzY1Y2EwZGIyOGMzYTRiM2Y4MmRkY2I1YTI0Y2Y3OGE1ID0gTC5wb2x5bGluZSgKICAgICAgICAgICAgICAgIFtbNTguMzYyNDYxNjM0MDI1MDI0LCAyNi45MTI3MjA5NDUzMzgwNzNdLCBbNTguNDQ3MTcyODUzNjM5NzM1LCAyNi45MDY1NTg4MDYwMzcwMTVdLCBbNTguNDg0NDE1MTI1Njg5MTQsIDI2Ljc4MDc0MjYxOTQ0NDQxOF0sIFs1OC40MzY5MDc3MTEyNTQyNjQsIDI2LjY2MTU3NTU4NjMwMTYyXSwgWzU4LjM1MjMxMzE2NDEzODE4LCAyNi42NjgyODk3MDk0NzA2OF0sIFs1OC4zMTUxMDkxNzAwMjE3LCAyNi43OTM2MTk4NDY3MDg2NjVdLCBbNTguMzYyNDYxNjM0MDI1MDI0LCAyNi45MTI3MjA5NDUzMzgwNzNdXSwKICAgICAgICAgICAgICAgIHsiYnViYmxpbmdNb3VzZUV2ZW50cyI6IHRydWUsICJjb2xvciI6ICJyZWQiLCAiZGFzaEFycmF5IjogbnVsbCwgImRhc2hPZmZzZXQiOiBudWxsLCAiZmlsbCI6IGZhbHNlLCAiZmlsbENvbG9yIjogInJlZCIsICJmaWxsT3BhY2l0eSI6IDAuMiwgImZpbGxSdWxlIjogImV2ZW5vZGQiLCAibGluZUNhcCI6ICJyb3VuZCIsICJsaW5lSm9pbiI6ICJyb3VuZCIsICJub0NsaXAiOiBmYWxzZSwgIm9wYWNpdHkiOiAxLjAsICJzbW9vdGhGYWN0b3IiOiAxLjAsICJzdHJva2UiOiB0cnVlLCAid2VpZ2h0IjogOH0KICAgICAgICAgICAgKS5hZGRUbyhtYXBfZTI4OWQ3YTlhODBlNDIwOGE4ODEwNzRjZDFlMTk0ZGQpOwogICAgICAgIAogICAgCiAgICAgICAgICAgIHZhciBwb2x5X2xpbmVfYTgxNzE3ZWNmMWYwNGY1ZThjNTU0MDgxNTY3OGY0ZmYgPSBMLnBvbHlsaW5lKAogICAgICAgICAgICAgICAgW1s1OC41NzE5MTExMDYzMjcxMSwgMjUuOTE0MzcyODA2Njc0OTMzXSwgWzU4LjUzNTc0MjkwMzcxMjY5LCAyNi4wNDAyNTA1NzAyMjg5OTVdLCBbNTguNTgzNzIzMDExMjI1Njg2LCAyNi4xNTgxNjA5MjU3ODA4NzNdLCBbNTguNjY4MDI0NzY5NzUzNTEsIDI2LjE1MDI0NTcwMDY0NzkyXSwgWzU4LjcwNDIyNjY0NzM2NzM4NSwgMjYuMDIzODcwOTQ4OTU5OTUzXSwgWzU4LjY1NjA5MjkxMTcxMjc1LCAyNS45MDU5MDk0MzQ1NDQwNDZdLCBbNTguNTcxOTExMTA2MzI3MTEsIDI1LjkxNDM3MjgwNjY3NDkzM11dLAogICAgICAgICAgICAgICAgeyJidWJibGluZ01vdXNlRXZlbnRzIjogdHJ1ZSwgImNvbG9yIjogInJlZCIsICJkYXNoQXJyYXkiOiBudWxsLCAiZGFzaE9mZnNldCI6IG51bGwsICJmaWxsIjogZmFsc2UsICJmaWxsQ29sb3IiOiAicmVkIiwgImZpbGxPcGFjaXR5IjogMC4yLCAiZmlsbFJ1bGUiOiAiZXZlbm9kZCIsICJsaW5lQ2FwIjogInJvdW5kIiwgImxpbmVKb2luIjogInJvdW5kIiwgIm5vQ2xpcCI6IGZhbHNlLCAib3BhY2l0eSI6IDEuMCwgInNtb290aEZhY3RvciI6IDEuMCwgInN0cm9rZSI6IHRydWUsICJ3ZWlnaHQiOiA4fQogICAgICAgICAgICApLmFkZFRvKG1hcF9lMjg5ZDdhOWE4MGU0MjA4YTg4MTA3NGNkMWUxOTRkZCk7CiAgICAgICAgCiAgICAKICAgICAgICAgICAgdmFyIHBvbHlfbGluZV85Y2MyOGQ0NWZmYWU0ODEyODNmYzZiN2E3NmJlZmU0MSA9IEwucG9seWxpbmUoCiAgICAgICAgICAgICAgICBbWzU4LjMwNDc5OTU5MzIzMzUwNCwgMjYuNTQ5ODM4Mjg4OTM3MzAyXSwgWzU4LjM1MjMxMzE2NDEzODE4LCAyNi42NjgyODk3MDk0NzA2OF0sIFs1OC40MzY5MDc3MTEyNTQyNjQsIDI2LjY2MTU3NTU4NjMwMTYyXSwgWzU4LjQ3Mzg3MTA4NTg4Mzc3LCAyNi41MzU4NjA3NTQwMTQ1NzVdLCBbNTguNDI2MjAyOTg3MzUyMTcsIDI2LjQxNzM0ODQzNjIyNzA5XSwgWzU4LjM0MTcyNjIyNjU3NjI5LCAyNi40MjQ2MTA4NzA1NzIxNV0sIFs1OC4zMDQ3OTk1OTMyMzM1MDQsIDI2LjU0OTgzODI4ODkzNzMwMl1dLAogICAgICAgICAgICAgICAgeyJidWJibGluZ01vdXNlRXZlbnRzIjogdHJ1ZSwgImNvbG9yIjogInJlZCIsICJkYXNoQXJyYXkiOiBudWxsLCAiZGFzaE9mZnNldCI6IG51bGwsICJmaWxsIjogZmFsc2UsICJmaWxsQ29sb3IiOiAicmVkIiwgImZpbGxPcGFjaXR5IjogMC4yLCAiZmlsbFJ1bGUiOiAiZXZlbm9kZCIsICJsaW5lQ2FwIjogInJvdW5kIiwgImxpbmVKb2luIjogInJvdW5kIiwgIm5vQ2xpcCI6IGZhbHNlLCAib3BhY2l0eSI6IDEuMCwgInNtb290aEZhY3RvciI6IDEuMCwgInN0cm9rZSI6IHRydWUsICJ3ZWlnaHQiOiA4fQogICAgICAgICAgICApLmFkZFRvKG1hcF9lMjg5ZDdhOWE4MGU0MjA4YTg4MTA3NGNkMWUxOTRkZCk7CiAgICAgICAgCjwvc2NyaXB0Pg== onload=\"this.contentDocument.open();this.contentDocument.write(atob(this.getAttribute('data-html')));this.contentDocument.close();\" allowfullscreen webkitallowfullscreen mozallowfullscreen></iframe></div></div>"
      ],
      "text/plain": [
       "<folium.folium.Map at 0x217cd8cb988>"
      ]
     },
     "metadata": {},
     "output_type": "display_data"
    }
   ],
   "source": [
    "\n",
    "\n",
    "m = visualize_hexagons(zone_id_list_from_fill)\n",
    "display(m)\n",
    "\n"
   ]
  }
 ],
 "metadata": {
  "kernelspec": {
   "display_name": "geopy2020",
   "language": "python",
   "name": "geopy2020"
  },
  "language_info": {
   "codemirror_mode": {
    "name": "ipython",
    "version": 3
   },
   "file_extension": ".py",
   "mimetype": "text/x-python",
   "name": "python",
   "nbconvert_exporter": "python",
   "pygments_lexer": "ipython3",
   "version": "3.7.8"
  }
 },
 "nbformat": 4,
 "nbformat_minor": 4
}
